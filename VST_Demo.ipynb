{
  "cells": [
    {
      "cell_type": "markdown",
      "metadata": {
        "id": "view-in-github",
        "colab_type": "text"
      },
      "source": [
        "<a href=\"https://colab.research.google.com/github/reidenong/VisuallySalientText/blob/main/VST_Demo.ipynb\" target=\"_parent\"><img src=\"https://colab.research.google.com/assets/colab-badge.svg\" alt=\"Open In Colab\"/></a>"
      ]
    },
    {
      "cell_type": "markdown",
      "source": [
        "# Visual Saliency Transformer - Training and Testing"
      ],
      "metadata": {
        "id": "oTETB-91HvVZ"
      }
    },
    {
      "cell_type": "markdown",
      "source": [
        "# Setup"
      ],
      "metadata": {
        "id": "RgEhR5KREKiS"
      }
    },
    {
      "cell_type": "markdown",
      "source": [
        "## For Google Colab"
      ],
      "metadata": {
        "id": "JaGrz6RXEYOu"
      }
    },
    {
      "cell_type": "code",
      "execution_count": null,
      "metadata": {
        "colab": {
          "base_uri": "https://localhost:8080/"
        },
        "id": "e8ERx7oPQSTo",
        "outputId": "5ffb5cb3-3bc5-4f62-9a9a-6b24a1a43850"
      },
      "outputs": [
        {
          "output_type": "stream",
          "name": "stdout",
          "text": [
            "Drive already mounted at /content/gdrive; to attempt to forcibly remount, call drive.mount(\"/content/gdrive\", force_remount=True).\n",
            "[Errno 2] No such file or directory: 'gdrive/MyDrive/VisualSaliencyTransformer # Replace /VST with your directory'\n",
            "/content\n",
            "Looking in indexes: https://pypi.org/simple, https://us-python.pkg.dev/colab-wheels/public/simple/, https://download.pytorch.org/whl/cu116\n",
            "Requirement already satisfied: torch in /usr/local/lib/python3.10/dist-packages (2.0.0+cu118)\n",
            "Requirement already satisfied: torchvision in /usr/local/lib/python3.10/dist-packages (0.15.1+cu118)\n",
            "Requirement already satisfied: torchaudio in /usr/local/lib/python3.10/dist-packages (2.0.1+cu118)\n",
            "Requirement already satisfied: typing-extensions in /usr/local/lib/python3.10/dist-packages (from torch) (4.5.0)\n",
            "Requirement already satisfied: jinja2 in /usr/local/lib/python3.10/dist-packages (from torch) (3.1.2)\n",
            "Requirement already satisfied: filelock in /usr/local/lib/python3.10/dist-packages (from torch) (3.12.0)\n",
            "Requirement already satisfied: sympy in /usr/local/lib/python3.10/dist-packages (from torch) (1.11.1)\n",
            "Requirement already satisfied: networkx in /usr/local/lib/python3.10/dist-packages (from torch) (3.1)\n",
            "Requirement already satisfied: triton==2.0.0 in /usr/local/lib/python3.10/dist-packages (from torch) (2.0.0)\n",
            "Requirement already satisfied: lit in /usr/local/lib/python3.10/dist-packages (from triton==2.0.0->torch) (16.0.2)\n",
            "Requirement already satisfied: cmake in /usr/local/lib/python3.10/dist-packages (from triton==2.0.0->torch) (3.25.2)\n",
            "Requirement already satisfied: numpy in /usr/local/lib/python3.10/dist-packages (from torchvision) (1.22.4)\n",
            "Requirement already satisfied: requests in /usr/local/lib/python3.10/dist-packages (from torchvision) (2.27.1)\n",
            "Requirement already satisfied: pillow!=8.3.*,>=5.3.0 in /usr/local/lib/python3.10/dist-packages (from torchvision) (8.4.0)\n",
            "Requirement already satisfied: MarkupSafe>=2.0 in /usr/local/lib/python3.10/dist-packages (from jinja2->torch) (2.1.2)\n",
            "Requirement already satisfied: charset-normalizer~=2.0.0 in /usr/local/lib/python3.10/dist-packages (from requests->torchvision) (2.0.12)\n",
            "Requirement already satisfied: certifi>=2017.4.17 in /usr/local/lib/python3.10/dist-packages (from requests->torchvision) (2022.12.7)\n",
            "Requirement already satisfied: urllib3<1.27,>=1.21.1 in /usr/local/lib/python3.10/dist-packages (from requests->torchvision) (1.26.15)\n",
            "Requirement already satisfied: idna<4,>=2.5 in /usr/local/lib/python3.10/dist-packages (from requests->torchvision) (3.4)\n",
            "Requirement already satisfied: mpmath>=0.19 in /usr/local/lib/python3.10/dist-packages (from sympy->torch) (1.3.0)\n",
            "Looking in indexes: https://pypi.org/simple, https://us-python.pkg.dev/colab-wheels/public/simple/\n",
            "Requirement already satisfied: timm in /usr/local/lib/python3.10/dist-packages (0.6.13)\n",
            "Requirement already satisfied: torchvision in /usr/local/lib/python3.10/dist-packages (from timm) (0.15.1+cu118)\n",
            "Requirement already satisfied: pyyaml in /usr/local/lib/python3.10/dist-packages (from timm) (6.0)\n",
            "Requirement already satisfied: huggingface-hub in /usr/local/lib/python3.10/dist-packages (from timm) (0.14.1)\n",
            "Requirement already satisfied: torch>=1.7 in /usr/local/lib/python3.10/dist-packages (from timm) (2.0.0+cu118)\n",
            "Requirement already satisfied: filelock in /usr/local/lib/python3.10/dist-packages (from torch>=1.7->timm) (3.12.0)\n",
            "Requirement already satisfied: networkx in /usr/local/lib/python3.10/dist-packages (from torch>=1.7->timm) (3.1)\n",
            "Requirement already satisfied: triton==2.0.0 in /usr/local/lib/python3.10/dist-packages (from torch>=1.7->timm) (2.0.0)\n",
            "Requirement already satisfied: typing-extensions in /usr/local/lib/python3.10/dist-packages (from torch>=1.7->timm) (4.5.0)\n",
            "Requirement already satisfied: jinja2 in /usr/local/lib/python3.10/dist-packages (from torch>=1.7->timm) (3.1.2)\n",
            "Requirement already satisfied: sympy in /usr/local/lib/python3.10/dist-packages (from torch>=1.7->timm) (1.11.1)\n",
            "Requirement already satisfied: cmake in /usr/local/lib/python3.10/dist-packages (from triton==2.0.0->torch>=1.7->timm) (3.25.2)\n",
            "Requirement already satisfied: lit in /usr/local/lib/python3.10/dist-packages (from triton==2.0.0->torch>=1.7->timm) (16.0.2)\n",
            "Requirement already satisfied: tqdm>=4.42.1 in /usr/local/lib/python3.10/dist-packages (from huggingface-hub->timm) (4.65.0)\n",
            "Requirement already satisfied: requests in /usr/local/lib/python3.10/dist-packages (from huggingface-hub->timm) (2.27.1)\n",
            "Requirement already satisfied: packaging>=20.9 in /usr/local/lib/python3.10/dist-packages (from huggingface-hub->timm) (23.1)\n",
            "Requirement already satisfied: fsspec in /usr/local/lib/python3.10/dist-packages (from huggingface-hub->timm) (2023.4.0)\n",
            "Requirement already satisfied: numpy in /usr/local/lib/python3.10/dist-packages (from torchvision->timm) (1.22.4)\n",
            "Requirement already satisfied: pillow!=8.3.*,>=5.3.0 in /usr/local/lib/python3.10/dist-packages (from torchvision->timm) (8.4.0)\n",
            "Requirement already satisfied: MarkupSafe>=2.0 in /usr/local/lib/python3.10/dist-packages (from jinja2->torch>=1.7->timm) (2.1.2)\n",
            "Requirement already satisfied: charset-normalizer~=2.0.0 in /usr/local/lib/python3.10/dist-packages (from requests->huggingface-hub->timm) (2.0.12)\n",
            "Requirement already satisfied: idna<4,>=2.5 in /usr/local/lib/python3.10/dist-packages (from requests->huggingface-hub->timm) (3.4)\n",
            "Requirement already satisfied: certifi>=2017.4.17 in /usr/local/lib/python3.10/dist-packages (from requests->huggingface-hub->timm) (2022.12.7)\n",
            "Requirement already satisfied: urllib3<1.27,>=1.21.1 in /usr/local/lib/python3.10/dist-packages (from requests->huggingface-hub->timm) (1.26.15)\n",
            "Requirement already satisfied: mpmath>=0.19 in /usr/local/lib/python3.10/dist-packages (from sympy->torch>=1.7->timm) (1.3.0)\n"
          ]
        }
      ],
      "source": [
        "from google.colab import drive\n",
        "drive.mount('/content/gdrive')\n",
        "%cd gdrive/MyDrive/VisualSaliencyTransformer         # Replace /VST with your directory\n",
        "!pip3 install torch torchvision torchaudio --extra-index-url https://download.pytorch.org/whl/cu116\n",
        "!pip3 install timm easyocr"
      ]
    },
    {
      "cell_type": "markdown",
      "source": [
        "## For other environments\n"
      ],
      "metadata": {
        "id": "LL5HWpD_EBMO"
      }
    },
    {
      "cell_type": "code",
      "source": [
        "!pip3 install -r requirements.txt"
      ],
      "metadata": {
        "id": "vf7_pExvEfzF"
      },
      "execution_count": null,
      "outputs": []
    },
    {
      "cell_type": "markdown",
      "source": [
        "# Training"
      ],
      "metadata": {
        "id": "q3W4Pik-EkEt"
      }
    },
    {
      "cell_type": "markdown",
      "source": [
        "- Training Images/Masks should be formatted according to the directory structure specified in README.md\n",
        "- VST does training with Image Contours for regular Object Saliency, but for the purposes of Text Saliency the Image Contours can be substituted with a copy of the Saliency Mask without compromising on accuracy"
      ],
      "metadata": {
        "id": "AG9h-jebGh1I"
      }
    },
    {
      "cell_type": "code",
      "source": [
        "!python VST.py --Training True --Testing False"
      ],
      "metadata": {
        "id": "xsCOVSomEvk9"
      },
      "execution_count": null,
      "outputs": []
    },
    {
      "cell_type": "markdown",
      "source": [
        "# Testing"
      ],
      "metadata": {
        "id": "Q4C1U_98EqWO"
      }
    },
    {
      "cell_type": "markdown",
      "source": [
        "- In Testing mode by default.\n",
        "- Test Images should be in --testpaths in a folder called \"images\", where testpaths is a directory in the data root.\n",
        "- ie. Data/NewsOutlet/NewsOutlet-TE/images/image0.jpg\n",
        "- Saliency Masks will be generated in the directory /Predictions"
      ],
      "metadata": {
        "id": "T51WXpwtFsFA"
      }
    },
    {
      "cell_type": "code",
      "source": [
        "!python VST.py --test_paths NewsOutlet/NewsOutlet-TE"
      ],
      "metadata": {
        "colab": {
          "base_uri": "https://localhost:8080/"
        },
        "id": "Gal4pGZYiVqm",
        "outputId": "52ab6683-8be2-46a0-f678-e69ac2b6c798"
      },
      "execution_count": null,
      "outputs": [
        {
          "output_type": "stream",
          "name": "stdout",
          "text": [
            "(1/3) Adopted transformer encoder for tokens-to-token\n",
            "(2/3) Model loaded from ./Models/PretrainedModels/80.7_T2T_ViT_t_14.pth.tar\n",
            "(3/3) Model loaded from Models/Checkpoints/RGB_VST.pth\n",
            "\n",
            "                   Starting testing:\n",
            "                       dataset: NewsOutlet\n",
            "                       Testing size: 40\n",
            "                   \n",
            "dataset:NewsOutlet, cost:50.8435845375061\n"
          ]
        }
      ]
    },
    {
      "cell_type": "markdown",
      "source": [
        "# OCR Integration with Saliency with EasyOCR"
      ],
      "metadata": {
        "id": "DUX6B2khN0Vc"
      }
    },
    {
      "cell_type": "code",
      "source": [
        "!python SalOCR.py --pdf"
      ],
      "metadata": {
        "colab": {
          "base_uri": "https://localhost:8080/"
        },
        "id": "Duc1WYHeN2q5",
        "outputId": "9972270c-bf28-46aa-d499-d27d3b47a718"
      },
      "execution_count": null,
      "outputs": [
        {
          "output_type": "stream",
          "name": "stdout",
          "text": [
            "100% 40/40 [00:47<00:00,  1.18s/it]\n"
          ]
        }
      ]
    },
    {
      "cell_type": "markdown",
      "source": [
        "### Inspecting some OCR examples"
      ],
      "metadata": {
        "id": "5UnhtEZsQXr8"
      }
    },
    {
      "cell_type": "code",
      "source": [
        "import json\n",
        "\n",
        "# Loading JSON file\n",
        "with open(\"TextOutput/ExtractedText.json\", \"r\") as fp:\n",
        "    labels_dict = json.load(fp)\n",
        "\n",
        "# Displaying each Raw/Sal version for each image\n",
        "for key in labels_dict:\n",
        "    print(key)\n",
        "    image_text = labels_dict[key]\n",
        "    for ver in image_text:\n",
        "        print(ver, \":\", image_text[ver])\n",
        "    print('\\n')"
      ],
      "metadata": {
        "colab": {
          "base_uri": "https://localhost:8080/"
        },
        "id": "nXM0qlSAQfi7",
        "outputId": "22471aaf-187f-4d05-cc08-abad9b6a4f81"
      },
      "execution_count": null,
      "outputs": [
        {
          "output_type": "stream",
          "name": "stdout",
          "text": [
            "NewsOutlet34.jpg\n",
            "Raw : 5,000 YEARS HISTORY OF RICH CULTURE IN INDIA CATalyst RECORDS PAKISTAN SHOCKING REACTION \n",
            "Sal : 5,000 YEARS HISTORY OF RICH CULTURE IN INDIA PAKISTAN SHOCKING REACTION \n",
            "\n",
            "\n",
            "NewsOutlet6.jpg\n",
            "Raw : Dodadug dotttid LIVE HONG KONG Whaticuditut Jaia icuriting STREET HELEN QIAO SIGNSI BOFA GLOBAL RESEARCH \n",
            "Sal : STREET HELEN QIAO SIGNSI BOFA GLOBAL RESEARCH \n",
            "\n",
            "\n",
            "NewsOutlet33.jpg\n",
            "Raw : WWW Ibtimes co.In TAF WINC COMMANDER ABHINANDAN VARTHAMAN, DRESSED IN A BLUE BLAZER, WHITE SHIRT AND BEIGE TROUSERS, ENTERED INDIAN SOIL ON FRIDAY AT AROUND 9.30 PM \n",
            "Sal : TAF WINC COMMANDER ABHINANDAN VARTHAMAN, DRESSED IN A BLUE BLAZER, WHITE SHIRT AND BEIGE TROUSERS, ENTERED INDIAN SOIL ON FRIDAY AT AROUND 9.30 PM \n",
            "\n",
            "\n",
            "NewsOutlet2.jpg\n",
            "Raw : COvId-19 PANDEMIC Drop in Chinese travellers heading home for Chinese New Year cna pics: Organisers expect Gamnes-related COVID 19 cases t0 peak in coming Oiympic days \n",
            "Sal : cna Oiympic days \n",
            "\n",
            "\n",
            "NewsOutlet39.jpg\n",
            "Raw : 2HRiyia = [igitdsti8ISI diaifer? INDIAY { wwwiindiatvin dreamdth.com 6ALLO @SushantBSinha ridlaGldl LIVE 2a1 faeldsl LIVE qifral H 2 HRdiul 81 fliol fed dli dhar onlytech com Us*t ISI E3i4 3ftpRTT @TH W & Liv E HRedlu 3lial & 2 31 &| 8134rad MON 12:1 1 WatchIndia Tv O DZH cnnel mu315 \n",
            "Sal : 2HRiyia = dli dhar 3ftpRTT @TH W & HRedlu 3lial & 2 31 &| 8134rad MON 12:1 1 WatchIndia Tv O DZH cnnel mu315 \n",
            "\n",
            "\n",
            "NewsOutlet13.jpg\n",
            "Raw : E@NEWS #53 A13 6058533 A8*4,42A \n",
            "Sal : E@NEWS #53 A13 A8*4,42A \n",
            "\n",
            "\n",
            "NewsOutlet32.jpg\n",
            "Raw : 2024 RACE HVB GOP PRESIDENTIAL CANDIDATE VIVEK RAMASWAMY Joins CnN tHS MORNNG @N Vivek Ramaswamy (R) Presidential Candidate; Entrepreneur 3OJAMC Arries 20-YEAR MAX SENTENCE Ocom UN. ISSUES RARE REBUKE OF CNN This MORNING \n",
            "Sal : 2024 RACE HVB GOP PRESIDENTIAL CANDIDATE VIVEK RAMASWAMY Joins CnN tHS MORNNG @N Vivek Ramaswamy (R) Presidential Candidate; Entrepreneur 3OJAMC \n",
            "\n",
            "\n",
            "NewsOutlet12.jpg\n",
            "Raw : @cnnv 7 1208 \"tit;\"055+3084 ? EFDMEI #ia38104 ! #Rw- iu % 01 1 4 1204 \n",
            "Sal : @cnnv \"tit;\"055+3084 ? #ia38104 ! #Rw- iu % 01 1 4 \n",
            "\n",
            "\n",
            "NewsOutlet24.jpg\n",
            "Raw : WARNING: DISTURBING VIDEO Obtained By CNN RUSSIA'S WAR ON UKRAINE LIV E VIDEO SHOWS RUSSIAN SOLDIERS SHOOTING 2 CIVILIANS IN THE BACK CN Shooting of two civilians investigated as a possible war crime 6.37 PM CET THE FACTS OF SHIREEN ABU AKLEH'S DEATH AND PRESENT THEM IN FULL @ZainAsher \n",
            "Sal : RUSSIA'S WAR ON UKRAINE LIV E VIDEO SHOWS RUSSIAN SOLDIERS SHOOTING 2 CIVILIANS IN THE BACK \n",
            "\n",
            "\n",
            "NewsOutlet38.jpg\n",
            "Raw : TAROT PREDICTS HUNG HOUSE INDIA TODAY IN UTTAR PRADESH 540 INDIA EXCLUSIVE TODAY MAN WHO SPOKE T0 SAIFULLAH DURING ENCOUNTER JALu Msn B PM Iop SheeLA BaJaJ, TarOT CarD READER Mt indiatoday-in NeWS LUCKNOW ENCOUNTER FLASH Saifullah died in exchange 0f fire Pm \n",
            "Sal : TAROT PREDICTS HUNG HOUSE INDIA IN UTTAR PRADESH INDIA TODAY NeWS LUCKNOW ENCOUNTER FLASH Saifullah died in exchange 0f fire \n",
            "\n",
            "\n",
            "NewsOutlet9.jpg\n",
            "Raw : LIVE] Hong Kong 2022 ECONOMIC PROJECTIONS FOR CHINA Consensus forecasts from private economists GDP +5.3% CPI +2.2% PPI +4.20 Industrial Production +5.0% Retail Sales +6.5% Unemployment Rate 3.6% Helen Qiao BOFA GLOBAL RESEARCH APAC ECONOMICS HEAD BREAKING CHINA'S MAIN MACRO INDICATORS NEWS IN NOV. IN REASONABLE RANGE: NBS \n",
            "Sal : LIVE] Hong Kong 2022 ECONOMIC PROJECTIONS FOR CHINA GDP CPI PPI BOFA GLOBAL RESEARCH BREAKING CHINA'S MAIN MACRO INDICATORS IN NOV. IN REASONABLE RANGE: NBS \n",
            "\n",
            "\n",
            "NewsOutlet16.jpg\n",
            "Raw : #zmi 1 2243528' @S @Tc hilio) #7egm8 41 Jly 6 75344 jLD @ 3ti0tcr uecWvs  tb EE13 MUIHOR codo MOEtzwh 2001 #@#tebemeadxem 07.36332 gebepbes]2rh135902521r6f_} HBEWEn 21146221/10 WTMd \n",
            "Sal : MUIHOR codo 2001 #@#tebemeadxem gebepbes]2rh135902521r6f_} HBEWEn 21146221/10 \n",
            "\n",
            "\n",
            "NewsOutlet19.jpg\n",
            "Raw : H afabil @ Breaking News CTS ERm 1 NEWSI {JF J6mksbh+b E /333 Gt#@nrIA 410II4Riz #em 19*|24\" 20% 478.1**#40Xm2 Exgrzm 10:06 TnTE 4w886p1k48r81bY ET0J0*82 Gjad Mt \n",
            "Sal : ERm NEWSI {JF Gt#@nrIA 410II4Riz #em 19*|24\" 478.1**#40Xm2 Exgrzm 10:06 4w886p1k48r81bY ET0J0*82 \n",
            "\n",
            "\n",
            "NewsOutlet15.jpg\n",
            "Raw : LIVE FOX CHINA MILITARY DRILLS SIMULATE SEALING OFF TAIWAN NEWS FOXNEWSALEI \n",
            "Sal : FOX CHINA MILITARY DRILLS SIMULATE SEALING OFF TAIWAN \n",
            "\n",
            "\n",
            "NewsOutlet10.jpg\n",
            "Raw : U.S. Dollar CNH (Offshore) 7 Days[-0.34%] 6.9583 ~0.0047 [-0.07%] 7.02 7.00 ON THE PHONE 6.98 Jk SHUJIN 6.96 CHEN JEFFERIES ASIA 6.94 HEAD OF CHINA FIG RESEARCH 8 I0 14 OPENING JEFFERIES: CHINA MONETARY CALL TIGHTENING UNLIKELY IN SHORT TERM \n",
            "Sal : U.S. Dollar CNH (Offshore) 6.9583 SHUJIN CHEN JEFFERIES ASIA OPENING JEFFERIES: CHINA MONETARY TIGHTENING UNLIKELY IN SHORT TERM \n",
            "\n",
            "\n",
            "NewsOutlet35.jpg\n",
            "Raw : Ist PresidentIn US \"Nikki To be Next U.S president HAI ALE INDIA DESERVE KRTA HAI T PAKISTAN SHOCKING REACTION \n",
            "Sal : Ist PresidentIn US \"Nikki To be Next U.S PAKISTAN SHOCKING REACTION \n",
            "\n",
            "\n",
            "NewsOutlet14.jpg\n",
            "Raw : Fox Good Day CHINA RAMPS UP MILITARY DRILLS NEAR TAIWAN Soattlo 5.33AM 44' LEVUE 57 MPH 8 MIN 1-5/1-405 EVERETT TO BELLEVUE 55 MPH 29 MIN 1-5 EV TRAFFIC \n",
            "Sal : Good Day CHINA RAMPS UP MILITARY DRILLS NEAR TAIWAN Soattlo 44' LEVUE 57 1-5/1-405 EVERETT TO BELLEVUE 55 MPH 29 MIN 1-5 EV \n",
            "\n",
            "\n",
            "NewsOutlet28.jpg\n",
            "Raw : ow Neil Basu | Assistant Commissioner; London Metropolitan Pollce NEWIS dwcom edwnewNs \n",
            "Sal : ow \n",
            "\n",
            "\n",
            "NewsOutlet26.jpg\n",
            "Raw : LIVE YULIA PERESILD, KLIM SHIPENKO AND ANTON SHKAPLEROV ARRIVED AT THE ISS 8:10.53 POCKOCMOC ABOARD THE SOYUZ MS-19 SPACECRAFT 9 EPA 9 \n",
            "Sal : LIVE 8:10.53 \n",
            "\n",
            "\n",
            "NewsOutlet30.jpg\n",
            "Raw : FaRDEMC RUs 1,289,297 248,001 d CORONAVIRUS pandemc Kev Foll MorE AWERICANS AIH Mll YG To G= coVd-i? vacdie C TlncEm \n",
            "Sal : CORONAVIRUS pandemc Kev Foll MorE AWERICANS AIH Mll YG To G= coVd-i? vacdie C TlncEm \n",
            "\n",
            "\n",
            "NewsOutlet27.jpg\n",
            "Raw : WHO declares health emergency over Ebola outbreak NEWS dwcom @dwnews \n",
            "Sal : WHO declares health emergency over Ebola outbreak NEWS dwcom @dwnews \n",
            "\n",
            "\n",
            "NewsOutlet20.jpg\n",
            "Raw : Mzwtm BeH8IE 1v0a? @emameteer WER D?IITuTdud e \n",
            "Sal : Mzwtm @emameteer WER D?IITuTdud e \n",
            "\n",
            "\n",
            "NewsOutlet23.jpg\n",
            "Raw : R RUSSIA PLANS 'HIGH PRECISION STRIKES REPORT FROM UKRAINE APER REPORT FROM R: SHAWAN SEN UKRAINE \n",
            "Sal : REPORT FROM R: SHAWAN SEN \n",
            "\n",
            "\n",
            "NewsOutlet4.jpg\n",
            "Raw : LIVE NEW YORK SQUAWK WINSTON MA Uuu BOXI NYU \n",
            "Sal : WINSTON MA NYU \n",
            "\n",
            "\n",
            "NewsOutlet18.jpg\n",
            "Raw : Jaxribzhz 0\"I0t G8 tAxeeezlb G4etRxitiin \n",
            "Sal : 0\"I0t G8 tAxeeezlb G4etRxitiin \n",
            "\n",
            "\n",
            "NewsOutlet25.jpg\n",
            "Raw : 'Anthony Bourdain; Parts Unknown\"/Zero Point Zero Production BREAKING NEWS PROMINENT PUTIN OPPONENT SHOT DEAD @N S&P ~6.24 SITUATION ROOM \n",
            "Sal : PROMINENT PUTIN OPPONENT SHOT DEAD \n",
            "\n",
            "\n",
            "NewsOutlet40.jpg\n",
            "Raw : (I4G Hgd  QT 3rigTITLIVe Syska (eD ieit siteit Wafue Afojgr aT &51?` TrR2 INDIAv Indlatvnowe-com 1ei \n",
            "Sal : (I4G Hgd  QT 3rigTITLIVe ieit siteit Wafue Afojgr aT &51?` TrR2 INDIAv 1ei \n",
            "\n",
            "\n",
            "NewsOutlet17.jpg\n",
            "Raw : dL--E-WHlD; } F9 E EJALE3 #IajieWI2AI?_w 14e1373i@HBIE 4tr 09.30:19 1+E RE4r52ran\"'] @m1ex6A\"4451310902 \n",
            "Sal : EJALE3 #IajieWI2AI?_w 14e1373i@HBIE 4tr 09.30:19 1+E RE4r52ran\"'] @m1ex6A\"4451310902 \n",
            "\n",
            "\n",
            "NewsOutlet21.jpg\n",
            "Raw : YOTA K.zia IOyOTA 40tz Waxexinhzre @aai404q0vm0 3156.79 642| 6204 1#21L wwwtianya cn/27747503 \n",
            "Sal : IOyOTA Waxexinhzre 1#21L \n",
            "\n",
            "\n",
            "NewsOutlet8.jpg\n",
            "Raw : Bloomberg SINGAPORE HONG KONG CSI 300 3,745.61 11.20 0.30% \n",
            "Sal : Bloomberg SINGAPORE HONG KONG CSI 300 3,745.61 11.20 0.30% \n",
            "\n",
            "\n",
            "NewsOutlet1.jpg\n",
            "Raw : ccinv 4 @REB Bar \"T4\" Zmr*xran m*sra4**tam4em2 D Tttm, anqwut*meum, GD \n",
            "Sal : Bar \"T4\" Zmr*xran m*sra4**tam4em2 Tttm, anqwut*meum, GD \n",
            "\n",
            "\n",
            "NewsOutlet11.jpg\n",
            "Raw : LIVE CHINA-TAIWAN CONFLICT BREAKING NEWS 12.35 \n",
            "Sal : BREAKING NEWS 12.35 \n",
            "\n",
            "\n",
            "NewsOutlet22.jpg\n",
            "Raw : R: UKRANEE STRIKESBACK @s2weud RUSSIA'S WAR ENtERS DAY 45 IN VIdeo: RUSSIAN TROOPS RETREAT FROM POSTS NREPUBLIC FinST ON REPUBLIC REPUBLIC] NETWORK GLOBAL EXCLUSIVE R \n",
            "Sal : NREPUBLIC FinST ON REPUBLIC \n",
            "\n",
            "\n",
            "NewsOutlet5.jpg\n",
            "Raw : LIVE BEIJING ON CHINA'S SMALL FIRMS STRUGGLING CNuBccom MORE THAN LARGE ONES -RPT CNBC \n",
            "Sal : CHINA'S SMALL FIRMS STRUGGLING MORE THAN LARGE ONES -RPT \n",
            "\n",
            "\n",
            "NewsOutlet37.jpg\n",
            "Raw : PRIYANKA CHOPRA TROLLED FOR EXPOSING LEGS IN FRONT OF PM MODI \n",
            "Sal : PRIYANKA CHOPRA TROLLED FOR EXPOSING LEGS IN FRONT OF PM MODI \n",
            "\n",
            "\n",
            "NewsOutlet7.jpg\n",
            "Raw : Bloomberg | Fises 5AN DecESXEDINVESTMENT \n",
            "Sal : Bloomberg | Fises 5AN DecESXEDINVESTMENT \n",
            "\n",
            "\n",
            "NewsOutlet31.jpg\n",
            "Raw : TONIGHT ON CNN CNN Special Report THE PANDEMIC & THE PRESIDENT 101 ET CNN ALERT NO CHARGES FILED MORE THAN TWO MONTHS AFTER AHMAUD ARBERY @N WAS SHOT AND KILLED IN GEORGIA NEIGHBORHOOD epia 8 CNN TONIGHT \n",
            "Sal : 101 CNN ALERT NO CHARGES FILED MORE THAN TWO MONTHS AFTER AHMAUD ARBERY @N WAS SHOT AND KILLED IN GEORGIA NEIGHBORHOOD CNN TONIGHT \n",
            "\n",
            "\n",
            "NewsOutlet36.jpg\n",
            "Raw : KENT #NiravModiLoot he att Mineral Ro RS 11,000,00,00,000 LOOT EXPOSED DebAt LOLAM HOW CaK YOU JUSTIFY ALL COHVERSION DY PRIMETIME SAYING INDIA IS ORIGIMALLY HIMdU MATIonZ Ime now 23 22p NDTV wolkmate THEMIRAV MODILOOT @MitrorNowl CALL US MOl #NiravModiLoot MIRROR NO WV CALL US ON 0120-4895625 9832 Pm Super \n",
            "Sal : THEMIRAV MODILOOT CALL US #NiravModiLoot MIRROR CALL US ON 0120-4895625 9832 Pm \n",
            "\n",
            "\n",
            "NewsOutlet3.jpg\n",
            "Raw : Cam Nn 0 NEWS #0ui RTR 5110rp9as8 Ou Ttsniriibin sly \n",
            "Sal : 0 NEWS #0ui 5110rp9as8 Ou Ttsniriibin sly \n",
            "\n",
            "\n",
            "NewsOutlet29.jpg\n",
            "Raw : af BREAKING NEWS LIV E DOMINION ATTORNEY: FOX AGREED tO S787,5 MLLION SETTLEMENT @MN 4.25 PM ET BOTH SIDES DENY THEIR FORCES WERE INVOLVED CNcom FILMING OF THE LEAD \n",
            "Sal : BREAKING NEWS LIV E DOMINION ATTORNEY: FOX AGREED tO S787,5 MLLION SETTLEMENT @MN 4.25 PM ET THE LEAD \n",
            "\n",
            "\n"
          ]
        }
      ]
    }
  ],
  "metadata": {
    "colab": {
      "provenance": [],
      "gpuType": "T4",
      "collapsed_sections": [
        "RgEhR5KREKiS",
        "JaGrz6RXEYOu",
        "LL5HWpD_EBMO",
        "q3W4Pik-EkEt",
        "Q4C1U_98EqWO",
        "DUX6B2khN0Vc",
        "5UnhtEZsQXr8"
      ],
      "include_colab_link": true
    },
    "kernelspec": {
      "display_name": "Python 3",
      "name": "python3"
    },
    "language_info": {
      "name": "python"
    },
    "accelerator": "GPU",
    "gpuClass": "standard"
  },
  "nbformat": 4,
  "nbformat_minor": 0
}